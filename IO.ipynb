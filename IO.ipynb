{
 "cells": [
  {
   "cell_type": "markdown",
   "metadata": {},
   "source": [
    "## 文件读写\n",
    "### 读文件\n",
    "要以读文件的模式打开一个文件对象，使用Python内置的open()函数，传入文件名和标示符\n",
    "\n",
    "    f = open('/Users/michael/test.txt', 'r')"
   ]
  },
  {
   "cell_type": "markdown",
   "metadata": {},
   "source": [
    "如果文件打开成功，接下来，调用read()方法可以一次读取文件的全部内容，Python把内容读到内存，用一个str对象表示\n",
    "\n",
    "` f.read()`\n",
    "\n",
    "最后一步是调用`close()`方法关闭文件。文件使用完毕后必须关闭，因为文件对象会占用操作系统的资源，并且操作系统同一时间能打开的文件数量也是有限的\n",
    "\n",
    "Python引入了with语句来自动帮我们调用close()方法\n",
    "\n",
    "    with open('/path/to/file', 'r') as f:\n",
    "        print(f.read())"
   ]
  },
  {
   "cell_type": "markdown",
   "metadata": {},
   "source": [
    "### StringIO\n",
    "很多时候，数据读写不一定是文件，也可以在内存中读写。\n",
    "\n",
    "StringIO顾名思义就是在内存中读写str。\n",
    "\n",
    "要把str写入StringIO，我们需要先创建一个StringIO，然后，像文件一样写入即可：\n",
    "\n",
    "    >>> from io import StringIO\n",
    "    >>> f = StringIO()\n",
    "    >>> f.write('hello')\n",
    "    5\n",
    "    >>> f.write(' ')\n",
    "    1\n",
    "    >>> f.write('world!')\n",
    "    6\n",
    "    >>> print(f.getvalue())\n",
    "    hello world!\n",
    "    \n",
    " \n",
    "getvalue()方法用于获得写入后的str。\n",
    "\n",
    "要读取StringIO，可以用一个str初始化StringIO，然后，像读文件一样读取\n",
    "\n",
    "    >>> from io import StringIO\n",
    "    >>> f = StringIO('Hello!\\nHi!\\nGoodbye!')\n",
    "    >>> while True:\n",
    "    ...     s = f.readline()\n",
    "    ...     if s == '':\n",
    "    ...         break\n",
    "    ...     print(s.strip())\n",
    "    ...\n",
    "    Hello!\n",
    "    Hi!\n",
    "    Goodbye!"
   ]
  },
  {
   "cell_type": "markdown",
   "metadata": {},
   "source": [
    "## BytesIO\n",
    "StringIO操作的只能是str，如果要操作二进制数据，就需要使用BytesIO。\n",
    "\n",
    "BytesIO实现了在内存中读写bytes，我们创建一个BytesIO，然后写入一些bytes\n",
    "\n",
    "和StringIO类似，可以用一个bytes初始化BytesIO，然后，像读文件一样读取"
   ]
  },
  {
   "cell_type": "code",
   "execution_count": 3,
   "metadata": {},
   "outputs": [
    {
     "data": {
      "text/plain": [
       "'nt'"
      ]
     },
     "execution_count": 3,
     "metadata": {},
     "output_type": "execute_result"
    }
   ],
   "source": [
    "import os\n",
    "os.name\n",
    "#os.environ"
   ]
  },
  {
   "cell_type": "markdown",
   "metadata": {},
   "source": [
    "## JSON\n",
    "Python内置的json模块提供了非常完善的Python对象到JSON格式的转换。我们先看看如何把Python对象变成一个JSON：Python内置的json模块提供了非常完善的Python对象到JSON格式的转换。我们先看看如何把Python对象变成一个JSON：\n",
    "\n",
    "dumps()方法返回一个str，内容就是标准的JSON。类似的，dump()方法可以直接把JSON写入一个file-like Object"
   ]
  },
  {
   "cell_type": "code",
   "execution_count": 6,
   "metadata": {},
   "outputs": [
    {
     "data": {
      "text/plain": [
       "'{\"name\": \"zwx\", \"age\": 23, \"score\": 100}'"
      ]
     },
     "execution_count": 6,
     "metadata": {},
     "output_type": "execute_result"
    }
   ],
   "source": [
    "import json\n",
    "d = dict(name='zwx' , age = 23 , score = 100)\n",
    "json.dumps(d)"
   ]
  }
 ],
 "metadata": {
  "kernelspec": {
   "display_name": "Python 3",
   "language": "python",
   "name": "python3"
  },
  "language_info": {
   "codemirror_mode": {
    "name": "ipython",
    "version": 3
   },
   "file_extension": ".py",
   "mimetype": "text/x-python",
   "name": "python",
   "nbconvert_exporter": "python",
   "pygments_lexer": "ipython3",
   "version": "3.6.2"
  }
 },
 "nbformat": 4,
 "nbformat_minor": 2
}
