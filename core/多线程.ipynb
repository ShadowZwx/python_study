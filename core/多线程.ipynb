{
 "cells": [
  {
   "cell_type": "markdown",
   "metadata": {},
   "source": [
    "## 线程和python\n",
    "### 全局解释器锁\n",
    "全局解释器锁：GIL 用于保证同时只能有一个线程运行\n",
    "\n",
    "只有线程在执行I/O密集型的应用时才能更好发挥Python的并发性\n",
    "\n",
    "（计算密集型只需要做轮询）使用多进程"
   ]
  },
  {
   "cell_type": "markdown",
   "metadata": {},
   "source": [
    "### python的threading模块\n",
    "\n",
    "### thread模块\n",
    "避免使用thread模块的原因\n",
    "\n",
    "1.thread模块提供了基本的线程和锁定支持，threading模块提供了更高级别功能更全面的线程管理\n",
    "\n",
    "2.同步原语少  \n",
    "\n",
    "3.对于进程何时退出没有控制\n",
    "\n",
    "4.不支持守护线程"
   ]
  },
  {
   "cell_type": "markdown",
   "metadata": {},
   "source": [
    "创建线程的方法：\n",
    "\n",
    "1.创建Thread的实例，传给它一个函数\n",
    "\n",
    "2.创建Thread的实例，传给它一个可调用的类实例\n",
    "\n",
    "3.派生Thread的子类，并创建子类的实例"
   ]
  },
  {
   "cell_type": "code",
   "execution_count": 1,
   "metadata": {},
   "outputs": [
    {
     "name": "stdout",
     "output_type": "stream",
     "text": [
      "staring at : Mon Dec  3 09:40:37 2018\n",
      "star loop star loop0  at Mon Dec  3 09:40:37 2018\n",
      "1 at Mon Dec  3 09:40:37 2018\n",
      "end loop 1 at Mon Dec  3 09:40:39 2018\n",
      "end loop 0 at Mon Dec  3 09:40:41 2018\n",
      "all Done at: Mon Dec  3 09:40:41 2018\n"
     ]
    }
   ],
   "source": [
    "#子类化的Thread\n",
    "\n",
    "import threading\n",
    "from time import sleep, ctime\n",
    "\n",
    "loops=(4,2)\n",
    "\n",
    "class MyThread(threading.Thread):\n",
    "    def __init__(self,func,args,name=''):\n",
    "        threading.Thread.__init__(self)\n",
    "        self.name = name\n",
    "        self.func = func\n",
    "        self.args = args\n",
    "        \n",
    "    def run(self):\n",
    "        self.func(*self.args)\n",
    "def loop(nloop, nsec):\n",
    "    print(\"star loop\", nloop,'at',ctime())\n",
    "    sleep(nsec)\n",
    "    print(\"end loop\", nloop,'at',ctime())\n",
    "    \n",
    "def main():\n",
    "    print(\"staring at :\",ctime())\n",
    "    threads = []\n",
    "    nloops = range(len(loops))\n",
    "    \n",
    "    for i in nloops:\n",
    "        t = MyThread(loop,(i,loops[i]),loop.__name__)\n",
    "        threads.append(t)\n",
    "        \n",
    "    for i in nloops:\n",
    "        threads[i].start()\n",
    "        \n",
    "    for i in nloops:\n",
    "        threads[i].join()\n",
    "        \n",
    "    print (\"all Done at:\", ctime())\n",
    "\n",
    "if __name__ == '__main__':\n",
    "    main()"
   ]
  },
  {
   "cell_type": "markdown",
   "metadata": {},
   "source": [
    "### 同步原语\n",
    "多线程代码中 总有一些特定的函数或代码块不希望（或不应该）被多个线程同时执行\n",
    "\n",
    "eg.修改数据库 　更新文件　　（静态条件）\n",
    "\n",
    "类型：锁、互斥  　信号量"
   ]
  },
  {
   "cell_type": "code",
   "execution_count": 35,
   "metadata": {},
   "outputs": [],
   "source": [
    "import queue\n",
    "from random import randint\n",
    "from time import sleep"
   ]
  }
 ],
 "metadata": {
  "kernelspec": {
   "display_name": "Python 3",
   "language": "python",
   "name": "python3"
  },
  "language_info": {
   "codemirror_mode": {
    "name": "ipython",
    "version": 3
   },
   "file_extension": ".py",
   "mimetype": "text/x-python",
   "name": "python",
   "nbconvert_exporter": "python",
   "pygments_lexer": "ipython3",
   "version": "3.6.2"
  }
 },
 "nbformat": 4,
 "nbformat_minor": 2
}
