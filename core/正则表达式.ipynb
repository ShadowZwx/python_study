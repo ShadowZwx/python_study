{
 "cells": [
  {
   "cell_type": "markdown",
   "metadata": {},
   "source": [
    "## 特殊符号和字符\n",
    " \n",
    " | 符号 | 作用 |正则表达式模式|匹配|\n",
    "| ------ | ------ | ------ |-----------|\n",
    "|| | 匹配多个正则表达式 | at\\|home  |at、home|\n",
    "| . | 匹配任意单个字符| f.o|fao f9o f#o|\n",
    "|^ | 匹配字符串的起始位置 |^from | 任何以from为起始的字符串|\n",
    "| \\$ | 匹配字符串的末尾位置 | /bin$ | 任何以/bin为结尾的字符串|\n",
    "\n",
    "\n",
    "\n",
    "\n",
    "..........................................\n",
    "\n",
    " \\* 0次或多次\n",
    " \n",
    " \\+ 1次或多次\n",
    " \n",
    " ? 0次或1次\n",
    " \n",
    " \\d　十进制数\n",
    " \n",
    " \\w　字母数字\n",
    " "
   ]
  },
  {
   "cell_type": "markdown",
   "metadata": {},
   "source": [
    "## 使用match()方法匹配字符串\n",
    "从字符串起始部分对模式进行匹配\n",
    "\n",
    "正则表达式对象（regex object）\n",
    "\n",
    "match(模式，字符串，flag) \n"
   ]
  },
  {
   "cell_type": "code",
   "execution_count": 1,
   "metadata": {},
   "outputs": [
    {
     "name": "stdout",
     "output_type": "stream",
     "text": [
      "foo\n"
     ]
    }
   ],
   "source": [
    "import re\n",
    "m = re.match('foo','fooo').group()\n",
    "print(m)"
   ]
  },
  {
   "cell_type": "markdown",
   "metadata": {},
   "source": [
    "## 使用search()在一个字符串中查找模式\n",
    "\n",
    "在任意位置对给定正则表达式模式搜索第一次出现的匹配情况\n"
   ]
  },
  {
   "cell_type": "code",
   "execution_count": 2,
   "metadata": {},
   "outputs": [
    {
     "name": "stdout",
     "output_type": "stream",
     "text": [
      "foo\n"
     ]
    }
   ],
   "source": [
    "m = re.search('foo','seafood')\n",
    "print(m.group())"
   ]
  },
  {
   "cell_type": "markdown",
   "metadata": {},
   "source": [
    "## 匹配多个字符\n"
   ]
  },
  {
   "cell_type": "code",
   "execution_count": 3,
   "metadata": {},
   "outputs": [
    {
     "name": "stdout",
     "output_type": "stream",
     "text": [
      "bat\n",
      "bit\n"
     ]
    }
   ],
   "source": [
    "bt = 'bat|bet|bit'\n",
    "m = re.match(bt,'bat')\n",
    "if m is not None:\n",
    "    print(m.group())\n",
    "    \n",
    "n = re.search(bt,'he bit me!')\n",
    "if n is not None:\n",
    "    print(n.group())"
   ]
  },
  {
   "cell_type": "markdown",
   "metadata": {},
   "source": [
    "## 匹配任何单个字符\n"
   ]
  },
  {
   "cell_type": "code",
   "execution_count": 4,
   "metadata": {},
   "outputs": [
    {
     "name": "stdout",
     "output_type": "stream",
     "text": [
      "3.14 3014 3.14\n"
     ]
    }
   ],
   "source": [
    "patt314 = '3.14'\n",
    "pi_patt = '3\\.14'\n",
    "m1 = re.match(pi_patt,'3.14')#精确匹配\n",
    "m2 = re.match(patt314,'3014')#点号匹配‘0’\n",
    "m3 = re.match(patt314,'3.14')#点号匹配‘。’\n",
    "print(m1.group(),m2.group(),m3.group())"
   ]
  },
  {
   "cell_type": "markdown",
   "metadata": {},
   "source": [
    "## 分组\n",
    "圆括号用于匹配和保存子组，便于后续处理"
   ]
  },
  {
   "cell_type": "code",
   "execution_count": 5,
   "metadata": {},
   "outputs": [
    {
     "name": "stdout",
     "output_type": "stream",
     "text": [
      "abc-123\n",
      "abc\n",
      "123\n",
      "('abc', '123')\n",
      "ab\n",
      "ab\n",
      "b\n",
      "('ab', 'b')\n"
     ]
    }
   ],
   "source": [
    "m = re.match('(\\w\\w\\w)-(\\d\\d\\d)','abc-123')\n",
    "print(m.group())#完整匹配\n",
    "print(m.group(1))#子组1\n",
    "print(m.group(2))#子组2\n",
    "print(m.groups())#全部子组\n",
    "\n",
    "\n",
    "n = re.match('(a(b))','ab')\n",
    "print(n.group())\n",
    "print(n.group(1))\n",
    "print(n.group(2))\n",
    "print(n.groups())\n"
   ]
  },
  {
   "cell_type": "markdown",
   "metadata": {},
   "source": [
    "## findall() finditer()查找每一次出现的位置\n",
    "findall() 正则表达式模式全部的非重复出现 　　返回列表\n",
    "\n",
    "finditer() 更节省内存 　在匹配对象中迭代\n",
    "\n",
    "完成所有额外工作都旨在获取它的输出来匹配`findall()`的输出"
   ]
  },
  {
   "cell_type": "code",
   "execution_count": 6,
   "metadata": {},
   "outputs": [
    {
     "name": "stdout",
     "output_type": "stream",
     "text": [
      "['car']\n",
      "['car', 'car', 'car']\n",
      "['car', 'car', 'car', 'car']\n"
     ]
    }
   ],
   "source": [
    "print(re.findall('car','car'))\n",
    "print(re.findall('car','carry the barcardi to the car'))\n",
    "print(re.findall('car','carry the barcardi to the carcar'))\n"
   ]
  },
  {
   "cell_type": "markdown",
   "metadata": {},
   "source": [
    "## sub() 和 subn() 搜索与替换\n",
    "将某字符串中所有匹配正则表达式的部分进行某种形式的替换\n",
    "\n",
    "subn()还返回一个表示替换的总数"
   ]
  },
  {
   "cell_type": "code",
   "execution_count": 7,
   "metadata": {},
   "outputs": [
    {
     "name": "stdout",
     "output_type": "stream",
     "text": [
      "attn:Mr.Smith\n",
      "\n",
      "gDear Mr.Smith,\n",
      "\n",
      "('attn:Mr.Smith\\n\\nDear Mr.Smith,\\n', 2)\n"
     ]
    }
   ],
   "source": [
    "print(re.sub('X','Mr.Smith','attn:X\\n\\ngDear X,\\n'))\n",
    "print(re.subn('X','Mr.Smith','attn:X\\n\\nDear X,\\n'))"
   ]
  },
  {
   "cell_type": "markdown",
   "metadata": {},
   "source": [
    "### 习题"
   ]
  },
  {
   "cell_type": "code",
   "execution_count": 8,
   "metadata": {},
   "outputs": [
    {
     "name": "stdout",
     "output_type": "stream",
     "text": [
      "Tom Jerry\n"
     ]
    }
   ],
   "source": [
    "# 1-2\n",
    "import re \n",
    "pattern = '[a-zA-Z]+\\s[a-zA-Z]+'\n",
    "string = 'Tom Jerry'\n",
    "m = re.search(pattern, string)\n",
    "print (m.group())"
   ]
  },
  {
   "cell_type": "code",
   "execution_count": 9,
   "metadata": {},
   "outputs": [
    {
     "name": "stdout",
     "output_type": "stream",
     "text": [
      "Tom, J\n"
     ]
    }
   ],
   "source": [
    "#1-3\n",
    "import re \n",
    "pattern = '[a-zA-Z]+,\\s[a-zA-Z]'\n",
    "string = 'Tom, Jerry'\n",
    "m = re.search(pattern, string)\n",
    "print (m.group())"
   ]
  },
  {
   "cell_type": "code",
   "execution_count": 10,
   "metadata": {},
   "outputs": [
    {
     "name": "stdout",
     "output_type": "stream",
     "text": [
      "_zZ123\n"
     ]
    }
   ],
   "source": [
    "#1-4\n",
    "import re \n",
    "pattern = '[_a-zA-Z]\\w+'\n",
    "string = '_zZ123'\n",
    "m = re.search(pattern, string)\n",
    "print (m.group())"
   ]
  },
  {
   "cell_type": "code",
   "execution_count": 11,
   "metadata": {},
   "outputs": [
    {
     "name": "stdout",
     "output_type": "stream",
     "text": [
      "3120 De la Cruz Boulevard Con\n"
     ]
    }
   ],
   "source": [
    "#1-5\n",
    "import re \n",
    "pattern = '\\d+(\\s[a-zA-Z]+)+'\n",
    "string = '3120 De la Cruz Boulevard Con'\n",
    "m = re.search(pattern, string)\n",
    "print (m.group())"
   ]
  },
  {
   "cell_type": "code",
   "execution_count": 12,
   "metadata": {},
   "outputs": [
    {
     "name": "stdout",
     "output_type": "stream",
     "text": [
      "https://www.xidian.edu\n"
     ]
    }
   ],
   "source": [
    "#1-6\n",
    "import re \n",
    "pattern = '(^www|^http)[^\\s]+(edu$|com$)'\n",
    "string = 'https://www.xidian.edu'\n",
    "m = re.search(pattern, string)\n",
    "print (m.group())"
   ]
  },
  {
   "cell_type": "code",
   "execution_count": 13,
   "metadata": {},
   "outputs": [
    {
     "name": "stdout",
     "output_type": "stream",
     "text": [
      "yczhangwx1995@163.com\n",
      "1026019297@qq.com\n",
      "abc_abc111@abc111_abc.com\n"
     ]
    }
   ],
   "source": [
    "#1-11  匹配所有能够表示有效电子邮件的集合\n",
    "import re \n",
    "pattern = '\\w+@\\w+\\.com'\n",
    "string1 = 'yczhangwx1995@163.com'\n",
    "string2 = '1026019297@qq.com'\n",
    "string3 = 'abc_abc111@abc111_abc.com'\n",
    "m1 = re.search(pattern, string1)\n",
    "m2 = re.search(pattern, string2)\n",
    "m3 = re.search(pattern, string3)\n",
    "print (m1.group())\n",
    "print (m2.group())\n",
    "print (m3.group())"
   ]
  },
  {
   "cell_type": "code",
   "execution_count": 14,
   "metadata": {},
   "outputs": [
    {
     "name": "stdout",
     "output_type": "stream",
     "text": [
      "http://foothill.edu\n",
      "http://www.baidu.com\n",
      "https://www.afish.com\n"
     ]
    }
   ],
   "source": [
    "#1-12 匹配所有能够表示有效的网址的集合（URL）\n",
    "import re \n",
    "pattern = r'((http|https)://)([w]{3}\\.)?\\w+\\.\\w+'\n",
    "string1 = 'http://foothill.edu'\n",
    "string2 = 'http://www.baidu.com'\n",
    "string3 = 'https://www.afish.com/index'\n",
    "m1 = re.search(pattern, string1)\n",
    "m2 = re.search(pattern, string2)\n",
    "m3 = re.search(pattern, string3)\n",
    "print (m1.group())\n",
    "print (m2.group())\n",
    "print (m3.group())"
   ]
  }
 ],
 "metadata": {
  "kernelspec": {
   "display_name": "Python 3",
   "language": "python",
   "name": "python3"
  },
  "language_info": {
   "codemirror_mode": {
    "name": "ipython",
    "version": 3
   },
   "file_extension": ".py",
   "mimetype": "text/x-python",
   "name": "python",
   "nbconvert_exporter": "python",
   "pygments_lexer": "ipython3",
   "version": "3.6.2"
  }
 },
 "nbformat": 4,
 "nbformat_minor": 2
}
